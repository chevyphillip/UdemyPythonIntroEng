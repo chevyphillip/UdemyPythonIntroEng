{
 "cells": [
  {
   "cell_type": "markdown",
   "metadata": {},
   "source": [
    "#### Regular index based for loop\n"
   ]
  },
  {
   "cell_type": "code",
   "execution_count": 1,
   "metadata": {},
   "outputs": [],
   "source": [
    "list_a = [100.0, 200.0, -10.0]\n",
    "list_b = [False, False, True]\n"
   ]
  },
  {
   "cell_type": "code",
   "execution_count": 2,
   "metadata": {},
   "outputs": [
    {
     "name": "stdout",
     "output_type": "stream",
     "text": [
      "0 100.0 False\n",
      "1 200.0 False\n",
      "2 -10.0 True\n"
     ]
    }
   ],
   "source": [
    "# index\n",
    "for idx in range(len(list_a)):\n",
    "    print(idx, list_a[idx], list_b[idx])"
   ]
  },
  {
   "cell_type": "markdown",
   "metadata": {},
   "source": [
    "#### Zip\n"
   ]
  },
  {
   "cell_type": "code",
   "execution_count": 3,
   "metadata": {},
   "outputs": [
    {
     "name": "stdout",
     "output_type": "stream",
     "text": [
      "100.0 False\n",
      "200.0 False\n",
      "-10.0 True\n"
     ]
    }
   ],
   "source": [
    "# values for multiple iterables\n",
    "for val_a, val_b in zip(list_a, list_b):\n",
    "    print(val_a, val_b)"
   ]
  },
  {
   "cell_type": "markdown",
   "metadata": {},
   "source": [
    "#### Enumerate\n"
   ]
  },
  {
   "cell_type": "code",
   "execution_count": 4,
   "metadata": {},
   "outputs": [
    {
     "name": "stdout",
     "output_type": "stream",
     "text": [
      "0 100.0\n",
      "1 200.0\n",
      "2 -10.0\n"
     ]
    }
   ],
   "source": [
    "# index and value\n",
    "for idx, val in enumerate(list_a):\n",
    "    print(idx, val)"
   ]
  },
  {
   "cell_type": "markdown",
   "metadata": {},
   "source": [
    "#### Combined Zip and Enumerate\n"
   ]
  },
  {
   "cell_type": "code",
   "execution_count": 5,
   "metadata": {},
   "outputs": [
    {
     "name": "stdout",
     "output_type": "stream",
     "text": [
      "0 100.0 False\n",
      "1 200.0 False\n",
      "2 -10.0 True\n"
     ]
    }
   ],
   "source": [
    "# index and values for multiple iterables\n",
    "for idx, (val_a, val_b) in enumerate(zip(list_a, list_b)):\n",
    "    print(idx, val_a, val_b)"
   ]
  }
 ],
 "metadata": {
  "kernelspec": {
   "display_name": "Python 3",
   "language": "python",
   "name": "python3"
  },
  "language_info": {
   "codemirror_mode": {
    "name": "ipython",
    "version": 3
   },
   "file_extension": ".py",
   "mimetype": "text/x-python",
   "name": "python",
   "nbconvert_exporter": "python",
   "pygments_lexer": "ipython3",
   "version": "3.12.1"
  }
 },
 "nbformat": 4,
 "nbformat_minor": 2
}
